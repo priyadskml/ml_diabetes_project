{
 "cells": [
  {
   "cell_type": "markdown",
   "metadata": {},
   "source": [
    "# SVM Implementation"
   ]
  },
  {
   "cell_type": "code",
   "execution_count": 2,
   "metadata": {
    "collapsed": true
   },
   "outputs": [],
   "source": [
    "import pandas as pd\n",
    "import numpy as np\n",
    "import matplotlib.pyplot as plt\n",
    "from sklearn import svm\n",
    "%matplotlib inline\n",
    "\n",
    "data = pd.read_csv(\"diabetic_data.csv\")\n",
    "drop_features = ['encounter_id', 'patient_nbr', 'weight', \n",
    "                 'payer_code', 'medical_specialty']\n",
    "# Drop features to be ignored\n",
    "data = data.drop(drop_features, axis=1)\n",
    "# Drop Unusable rows\n",
    "data = data[data[\"A1Cresult\"] != \"None\"]\n",
    "\n",
    "# Store Features\n",
    "x = np.array(data.drop(\"A1Cresult\", axis=1))\n",
    "# Store Target values\n",
    "y = np.array(data[\"A1Cresult\"])"
   ]
  },
  {
   "cell_type": "code",
   "execution_count": null,
   "metadata": {
    "collapsed": true
   },
   "outputs": [],
   "source": [
    "# SVM\n",
    "model = svm.SVC(kernel=\"linear\")\n",
    "result = model.fit(x, y)\n",
    "\n"
   ]
  }
 ],
 "metadata": {
  "kernelspec": {
   "display_name": "Python 3",
   "language": "python",
   "name": "python3"
  },
  "language_info": {
   "codemirror_mode": {
    "name": "ipython",
    "version": 3
   },
   "file_extension": ".py",
   "mimetype": "text/x-python",
   "name": "python",
   "nbconvert_exporter": "python",
   "pygments_lexer": "ipython3",
   "version": "3.6.3"
  }
 },
 "nbformat": 4,
 "nbformat_minor": 2
}
