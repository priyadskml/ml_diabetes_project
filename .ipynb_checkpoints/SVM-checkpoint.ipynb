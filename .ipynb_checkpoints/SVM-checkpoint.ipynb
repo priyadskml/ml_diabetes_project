{
 "cells": [
  {
   "cell_type": "markdown",
   "metadata": {},
   "source": [
    "# SVM Implementation"
   ]
  },
  {
   "cell_type": "code",
   "execution_count": 4,
   "metadata": {
    "collapsed": true
   },
   "outputs": [],
   "source": [
    "import pandas as pd\n",
    "import numpy as np\n",
    "import matplotlib.pyplot as plt\n",
    "from sklearn import svm\n",
    "%matplotlib inline\n",
    "\n",
    "data = pd.read_csv(\"diabetic_data.csv\")\n",
    "drop_features = ['encounter_id', 'patient_nbr', 'weight', \n",
    "                 'payer_code', 'medical_specialty']\n",
    "# Drop features to be ignored\n",
    "data = data.drop(drop_features, axis=1)\n",
    "# Drop Unusable rows\n",
    "data = data[data[\"A1Cresult\"] != \"None\"]\n",
    "\n",
    "# Store Features\n",
    "x = data.drop(\"A1Cresult\", axis=1)\n",
    "# Store Target values\n",
    "y = data[\"A1Cresult\"]"
   ]
  },
  {
   "cell_type": "code",
   "execution_count": 2,
   "metadata": {
    "collapsed": true
   },
   "outputs": [],
   "source": [
    "from sklearn import preprocessing\n",
    "\n",
    "# Create encoder\n",
    "encoder = preprocessing.LabelEncoder()\n",
    "\n",
    "# Encode each feature\n",
    "for feature in x.columns:\n",
    "    x[feature] = encoder.fit_transform(x[feature])"
   ]
  },
  {
   "cell_type": "code",
   "execution_count": 6,
   "metadata": {},
   "outputs": [],
   "source": [
    "from sklearn.model_selection import train_test_split  \n",
    "X_train, X_test, y_train, y_test = train_test_split(x, y, test_size = 0.25) \n",
    "\n",
    "# SVM\n",
    "#model = svm.SVC(kernel=\"linear\")\n",
    "#model.fit(xi, yi)\n",
    "#print(model)\n"
   ]
  }
 ],
 "metadata": {
  "kernelspec": {
   "display_name": "Python 3",
   "language": "python",
   "name": "python3"
  },
  "language_info": {
   "codemirror_mode": {
    "name": "ipython",
    "version": 3
   },
   "file_extension": ".py",
   "mimetype": "text/x-python",
   "name": "python",
   "nbconvert_exporter": "python",
   "pygments_lexer": "ipython3",
   "version": "3.6.3"
  }
 },
 "nbformat": 4,
 "nbformat_minor": 2
}
