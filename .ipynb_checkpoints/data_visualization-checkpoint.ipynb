{
 "cells": [
  {
   "cell_type": "markdown",
   "metadata": {
    "colab_type": "text",
    "id": "view-in-github"
   },
   "source": [
    "<a href=\"https://colab.research.google.com/github/srikrishnapriyad/ml_diabetes_project/blob/master/data_visualization.ipynb\" target=\"_parent\"><img src=\"https://colab.research.google.com/assets/colab-badge.svg\" alt=\"Open In Colab\"/></a>"
   ]
  },
  {
   "cell_type": "markdown",
   "metadata": {},
   "source": [
    "## Exploratory Analysis"
   ]
  },
  {
   "cell_type": "code",
   "execution_count": 28,
   "metadata": {
    "colab": {},
    "colab_type": "code",
    "collapsed": true,
    "id": "psPtLQMq-6dJ"
   },
   "outputs": [],
   "source": [
    "import pandas as pd\n",
    "import numpy as np\n",
    "import matplotlib.pyplot as plt\n",
    "from sklearn import preprocessing\n",
    "%matplotlib inline\n",
    "\n",
    "data = pd.read_csv(\"diabetic_data.csv\")"
   ]
  },
  {
   "cell_type": "code",
   "execution_count": 10,
   "metadata": {},
   "outputs": [
    {
     "data": {
      "image/png": "[encoded data removed]",
      "text/plain": [
       "<matplotlib.figure.Figure at 0x222184c1828>"
      ]
     },
     "metadata": {},
     "output_type": "display_data"
    }
   ],
   "source": [
    "## Histogram of Ages\n",
    "plt.figure(figsize=(8,5))\n",
    "plt.hist(data[\"age\"])\n",
    "plt.ylabel(\"Number of Entries\")\n",
    "plt.xlabel(\"Age Range\")\n",
    "plt.legend()\n",
    "plt.show();"
   ]
  },
  {
   "cell_type": "markdown",
   "metadata": {},
   "source": [
    "# PCA\n",
    "\n",
    "Re-mapped values\n",
    "- Drugs [No:4, Steady:3, Down:2, Up:1]\n",
    "- Gender [Male:0, Female:1]\n",
    "- Race [?:0, AfricanAmerican:1, Asian:2, Caucasian:3, Hispanic:4, Other:5]\n",
    "- Age [Map to lower bound 0-10 -> 0, 30-40 -> 30]\n",
    "- Max_glu_serum [>200:200, >300:300, "
   ]
  },
  {
   "cell_type": "code",
   "execution_count": 35,
   "metadata": {},
   "outputs": [],
   "source": [
    "x = data.copy(deep=True)\n",
    "drop_features = ['encounter_id', 'patient_nbr', 'weight', \n",
    "                 'payer_code', 'medical_specialty']\n",
    "\n",
    "# Drop features to be ignored\n",
    "x = x.drop(drop_features, axis=1)\n",
    "# Store Target values\n",
    "y = pd.Series(None)\n",
    "\n",
    "# Create encoder\n",
    "encoder = preprocessing.LabelEncoder()\n",
    "\n",
    "# Encode each feature\n",
    "for feature in x.columns:\n",
    "    if feature == \"A1Cresult\":\n",
    "        y = encoder.fit_transform(x[feature])\n",
    "    else:\n",
    "        x[feature] = encoder.fit_transform(x[feature])"
   ]
  },
  {
   "cell_type": "code",
   "execution_count": 36,
   "metadata": {},
   "outputs": [
    {
     "name": "stdout",
     "output_type": "stream",
     "text": [
      "   race  gender  age  admission_type_id  discharge_disposition_id  \\\n",
      "0     3       0    0                  5                        23   \n",
      "1     3       0    1                  0                         0   \n",
      "2     1       0    2                  0                         0   \n",
      "3     3       1    3                  0                         0   \n",
      "4     3       1    4                  0                         0   \n",
      "\n",
      "   admission_source_id  time_in_hospital  num_lab_procedures  num_procedures  \\\n",
      "0                    0                 0                  40               0   \n",
      "1                    6                 2                  58               0   \n",
      "2                    6                 1                  10               5   \n",
      "3                    6                 1                  43               1   \n",
      "4                    6                 0                  50               0   \n",
      "\n",
      "   num_medications     ...      citoglipton  insulin  glyburide-metformin  \\\n",
      "0                0     ...                0        1                    1   \n",
      "1               17     ...                0        3                    1   \n",
      "2               12     ...                0        1                    1   \n",
      "3               15     ...                0        3                    1   \n",
      "4                7     ...                0        2                    1   \n",
      "\n",
      "   glipizide-metformin  glimepiride-pioglitazone  metformin-rosiglitazone  \\\n",
      "0                    0                         0                        0   \n",
      "1                    0                         0                        0   \n",
      "2                    0                         0                        0   \n",
      "3                    0                         0                        0   \n",
      "4                    0                         0                        0   \n",
      "\n",
      "   metformin-pioglitazone  change diabetesMed  readmitted  \n",
      "0                       0       1           0           2  \n",
      "1                       0       0           1           1  \n",
      "2                       0       1           1           2  \n",
      "3                       0       0           1           2  \n",
      "4                       0       0           1           2  \n",
      "\n",
      "[5 rows x 45 columns]\n"
     ]
    }
   ],
   "source": [
    "print(x.head())"
   ]
  }
 ],
 "metadata": {
  "colab": {
   "include_colab_link": true,
   "name": "data_visualization.ipynb",
   "provenance": [],
   "version": "0.3.2"
  },
  "kernelspec": {
   "display_name": "Python 3",
   "language": "python",
   "name": "python3"
  },
  "language_info": {
   "codemirror_mode": {
    "name": "ipython",
    "version": 3
   },
   "file_extension": ".py",
   "mimetype": "text/x-python",
   "name": "python",
   "nbconvert_exporter": "python",
   "pygments_lexer": "ipython3",
   "version": "3.6.3"
  }
 },
 "nbformat": 4,
 "nbformat_minor": 1
}
