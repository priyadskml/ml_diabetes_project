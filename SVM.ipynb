{
 "cells": [
  {
   "cell_type": "markdown",
   "metadata": {},
   "source": [
    "# SVM Implementation"
   ]
  },
  {
   "cell_type": "code",
   "execution_count": 1,
   "metadata": {
    "collapsed": true
   },
   "outputs": [],
   "source": [
    "import pandas as pd\n",
    "import numpy as np\n",
    "import matplotlib.pyplot as plt\n",
    "from sklearn import svm\n",
    "%matplotlib inline\n",
    "\n",
    "data = pd.read_csv(\"diabetic_data.csv\")\n",
    "drop_features = ['encounter_id', 'patient_nbr', 'weight', \n",
    "                 'payer_code', 'medical_specialty']\n",
    "# Drop features to be ignored\n",
    "data = data.drop(drop_features, axis=1)\n",
    "# Drop Unusable rows\n",
    "data = data[data[\"A1Cresult\"] != \"None\"]\n",
    "\n",
    "# Store Features\n",
    "x = data.drop(\"A1Cresult\", axis=1)\n",
    "# Store Target values\n",
    "y = data[\"A1Cresult\"]"
   ]
  },
  {
   "cell_type": "code",
   "execution_count": 2,
   "metadata": {
    "collapsed": true
   },
   "outputs": [],
   "source": [
    "from sklearn import preprocessing\n",
    "\n",
    "# Create encoder\n",
    "encoder = preprocessing.LabelEncoder()\n",
    "\n",
    "# Encode each feature\n",
    "for feature in x.columns:\n",
    "    x[feature] = encoder.fit_transform(x[feature])"
   ]
  },
  {
   "cell_type": "code",
   "execution_count": 8,
   "metadata": {},
   "outputs": [],
   "source": [
    "import time\n",
    "from sklearn.model_selection import train_test_split\n",
    "from sklearn.model_selection import cross_val_score\n",
    "\n",
    "# Split Data\n",
    "x_train, x_test, y_train, y_test = train_test_split(x, y, test_size = 0.25) \n",
    "\n",
    "# Scale down data\n",
    "scaler = preprocessing.StandardScaler().fit(x_train)\n",
    "x_train = scaler.fit_transform(x_train)\n",
    "x_test = scaler.fit_transform(x_test)"
   ]
  },
  {
   "cell_type": "code",
   "execution_count": 9,
   "metadata": {},
   "outputs": [],
   "source": [
    "# SVM linear\n",
    "start_time = time.time()\n",
    "lin_model = svm.SVC(kernel=\"linear\", cache_size=7000)\n",
    "lin_model.fit(x_train, y_train)\n",
    "lin_model_yhat = lin_model.predict(x_test)\n",
    "lin_model_time = time.time() - start_time"
   ]
  },
  {
   "cell_type": "code",
   "execution_count": 10,
   "metadata": {
    "collapsed": true
   },
   "outputs": [],
   "source": [
    "# SVM rbf - Radial Basis func\n",
    "start_time = time.time()\n",
    "rbf_model = svm.SVC(kernel=\"rbf\", cache_size=7000)\n",
    "rbf_model.fit(x_train, y_train)\n",
    "rbf_model_yhat = rbf_model.predict(x_test)\n",
    "rbf_model_time = time.time() - start_time"
   ]
  },
  {
   "cell_type": "code",
   "execution_count": null,
   "metadata": {
    "collapsed": true
   },
   "outputs": [],
   "source": [
    "from sklearn.metrics import mean_squared_error\n",
    "\n",
    "# Cross validation, 5 folds\n",
    "lin_model_cv_score = cross_val_score(lin_model, x, y, cv=20)\n",
    "rbf_model_cv_score = cross_val_score(rbf_model, x, y, cv=20)\n",
    "\n",
    "# Mean squared error\n",
    "lin_model_mse = mean_squared_error(y_test, lin_model_yhat)\n",
    "rbf_model_mse = mean_squared_error(y_test, rbf_model_yhat)\n",
    "\n",
    "print(\"Linear Model MSE\")\n",
    "print(lin_model_mse)\n",
    "print(\"Linear Model Cross Validation\")\n",
    "print(lin_model_cv_score)\n",
    "print(\"runtime (sec): \")\n",
    "print(lin_model_time)\n",
    "\n",
    "print(\"\\n**********\\n\")\n",
    "\n",
    "print(\"Radial Basis Function MSE\")\n",
    "print(rbf_model_mse)\n",
    "print(\"Radial Basis Function Cross Validation\")\n",
    "print(rbf_model_cv_score)\n",
    "print(\"runtime (sec): \")\n",
    "print(rbf_model_time)"
   ]
  }
 ],
 "metadata": {
  "kernelspec": {
   "display_name": "Python 3",
   "language": "python",
   "name": "python3"
  },
  "language_info": {
   "codemirror_mode": {
    "name": "ipython",
    "version": 3
   },
   "file_extension": ".py",
   "mimetype": "text/x-python",
   "name": "python",
   "nbconvert_exporter": "python",
   "pygments_lexer": "ipython3",
   "version": "3.6.3"
  }
 },
 "nbformat": 4,
 "nbformat_minor": 2
}
