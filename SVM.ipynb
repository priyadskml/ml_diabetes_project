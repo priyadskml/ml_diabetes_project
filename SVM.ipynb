{
 "cells": [
  {
   "cell_type": "markdown",
   "metadata": {},
   "source": [
    "# SVM Implementation"
   ]
  },
  {
   "cell_type": "code",
   "execution_count": 1,
   "metadata": {
    "collapsed": true
   },
   "outputs": [],
   "source": [
    "import pandas as pd\n",
    "import numpy as np\n",
    "import matplotlib.pyplot as plt\n",
    "from sklearn import svm\n",
    "%matplotlib inline\n",
    "\n",
    "data = pd.read_csv(\"diabetic_data.csv\")\n",
    "drop_features = ['encounter_id', 'patient_nbr', 'weight', \n",
    "                 'payer_code', 'medical_specialty']\n",
    "# Drop features to be ignored\n",
    "data = data.drop(drop_features, axis=1)\n",
    "# Drop Unusable rows\n",
    "data = data[data[\"A1Cresult\"] != \"None\"]\n",
    "\n",
    "# Store Features\n",
    "x = data.drop(\"A1Cresult\", axis=1)\n",
    "# Store Target values\n",
    "y = data[\"A1Cresult\"]"
   ]
  },
  {
   "cell_type": "code",
   "execution_count": 2,
   "metadata": {},
   "outputs": [],
   "source": [
    "from sklearn import preprocessing\n",
    "\n",
    "# Create encoder\n",
    "encoder = preprocessing.LabelEncoder()\n",
    "\n",
    "# Encode each feature\n",
    "for feature in x.columns:\n",
    "    x[feature] = encoder.fit_transform(x[feature])"
   ]
  },
  {
   "cell_type": "code",
   "execution_count": 3,
   "metadata": {},
   "outputs": [
    {
     "name": "stdout",
     "output_type": "stream",
     "text": [
      "SVC(C=1.0, cache_size=200, class_weight=None, coef0=0.0,\n",
      "  decision_function_shape='ovr', degree=3, gamma='auto', kernel='linear',\n",
      "  max_iter=-1, probability=False, random_state=None, shrinking=True,\n",
      "  tol=0.001, verbose=False)\n"
     ]
    }
   ],
   "source": [
    "xi = x[:1000]\n",
    "yi = y[:1000]\n",
    "\n",
    "# SVM\n",
    "model = svm.SVC(kernel=\"linear\")\n",
    "model.fit(xi, yi)\n",
    "print(model)\n"
   ]
  }
 ],
 "metadata": {
  "kernelspec": {
   "display_name": "Python 3",
   "language": "python",
   "name": "python3"
  },
  "language_info": {
   "codemirror_mode": {
    "name": "ipython",
    "version": 3
   },
   "file_extension": ".py",
   "mimetype": "text/x-python",
   "name": "python",
   "nbconvert_exporter": "python",
   "pygments_lexer": "ipython3",
   "version": "3.6.3"
  }
 },
 "nbformat": 4,
 "nbformat_minor": 2
}
